{
  "nbformat": 4,
  "nbformat_minor": 0,
  "metadata": {
    "colab": {
      "name": "CreditCardFraud.ipynb",
      "provenance": [],
      "authorship_tag": "ABX9TyM+cFI3jlP/cKUU3KAmHMMc",
      "include_colab_link": true
    },
    "kernelspec": {
      "name": "python3",
      "display_name": "Python 3"
    },
    "language_info": {
      "name": "python"
    }
  },
  "cells": [
    {
      "cell_type": "markdown",
      "metadata": {
        "id": "view-in-github",
        "colab_type": "text"
      },
      "source": [
        "<a href=\"https://colab.research.google.com/github/castrostephano/CreditCardDetection/blob/main/CreditCardFraud.ipynb\" target=\"_parent\"><img src=\"https://colab.research.google.com/assets/colab-badge.svg\" alt=\"Open In Colab\"/></a>"
      ]
    },
    {
      "cell_type": "code",
      "metadata": {
        "id": "AstizCYo2llG"
      },
      "source": [
        "import numpy as np\n",
        "import pandas as pd\n",
        "from sklearn.model_selection import train_test_split\n",
        "from sklearn.linear_model import LogisticRegression\n",
        "from sklearn.metrics import accuracy_score"
      ],
      "execution_count": null,
      "outputs": []
    },
    {
      "cell_type": "code",
      "metadata": {
        "id": "RpfRAni33-gW"
      },
      "source": [
        "credit_card_data = pd.read_csv('/creditcard.csv')"
      ],
      "execution_count": 9,
      "outputs": []
    },
    {
      "cell_type": "code",
      "metadata": {
        "id": "8cpK7SfC4UGr",
        "colab": {
          "base_uri": "https://localhost:8080/",
          "height": 224
        },
        "outputId": "e04db704-a8f8-4b1c-edb6-ae5db43facb7"
      },
      "source": [
        "credit_card_data.head()"
      ],
      "execution_count": 10,
      "outputs": [
        {
          "output_type": "execute_result",
          "data": {
            "text/html": [
              "<div>\n",
              "<style scoped>\n",
              "    .dataframe tbody tr th:only-of-type {\n",
              "        vertical-align: middle;\n",
              "    }\n",
              "\n",
              "    .dataframe tbody tr th {\n",
              "        vertical-align: top;\n",
              "    }\n",
              "\n",
              "    .dataframe thead th {\n",
              "        text-align: right;\n",
              "    }\n",
              "</style>\n",
              "<table border=\"1\" class=\"dataframe\">\n",
              "  <thead>\n",
              "    <tr style=\"text-align: right;\">\n",
              "      <th></th>\n",
              "      <th>Time</th>\n",
              "      <th>V1</th>\n",
              "      <th>V2</th>\n",
              "      <th>V3</th>\n",
              "      <th>V4</th>\n",
              "      <th>V5</th>\n",
              "      <th>V6</th>\n",
              "      <th>V7</th>\n",
              "      <th>V8</th>\n",
              "      <th>V9</th>\n",
              "      <th>V10</th>\n",
              "      <th>V11</th>\n",
              "      <th>V12</th>\n",
              "      <th>V13</th>\n",
              "      <th>V14</th>\n",
              "      <th>V15</th>\n",
              "      <th>V16</th>\n",
              "      <th>V17</th>\n",
              "      <th>V18</th>\n",
              "      <th>V19</th>\n",
              "      <th>V20</th>\n",
              "      <th>V21</th>\n",
              "      <th>V22</th>\n",
              "      <th>V23</th>\n",
              "      <th>V24</th>\n",
              "      <th>V25</th>\n",
              "      <th>V26</th>\n",
              "      <th>V27</th>\n",
              "      <th>V28</th>\n",
              "      <th>Amount</th>\n",
              "      <th>Class</th>\n",
              "    </tr>\n",
              "  </thead>\n",
              "  <tbody>\n",
              "    <tr>\n",
              "      <th>0</th>\n",
              "      <td>0</td>\n",
              "      <td>-1.359807</td>\n",
              "      <td>-0.072781</td>\n",
              "      <td>2.536347</td>\n",
              "      <td>1.378155</td>\n",
              "      <td>-0.338321</td>\n",
              "      <td>0.462388</td>\n",
              "      <td>0.239599</td>\n",
              "      <td>0.098698</td>\n",
              "      <td>0.363787</td>\n",
              "      <td>0.090794</td>\n",
              "      <td>-0.551600</td>\n",
              "      <td>-0.617801</td>\n",
              "      <td>-0.991390</td>\n",
              "      <td>-0.311169</td>\n",
              "      <td>1.468177</td>\n",
              "      <td>-0.470401</td>\n",
              "      <td>0.207971</td>\n",
              "      <td>0.025791</td>\n",
              "      <td>0.403993</td>\n",
              "      <td>0.251412</td>\n",
              "      <td>-0.018307</td>\n",
              "      <td>0.277838</td>\n",
              "      <td>-0.110474</td>\n",
              "      <td>0.066928</td>\n",
              "      <td>0.128539</td>\n",
              "      <td>-0.189115</td>\n",
              "      <td>0.133558</td>\n",
              "      <td>-0.021053</td>\n",
              "      <td>149.62</td>\n",
              "      <td>0.0</td>\n",
              "    </tr>\n",
              "    <tr>\n",
              "      <th>1</th>\n",
              "      <td>0</td>\n",
              "      <td>1.191857</td>\n",
              "      <td>0.266151</td>\n",
              "      <td>0.166480</td>\n",
              "      <td>0.448154</td>\n",
              "      <td>0.060018</td>\n",
              "      <td>-0.082361</td>\n",
              "      <td>-0.078803</td>\n",
              "      <td>0.085102</td>\n",
              "      <td>-0.255425</td>\n",
              "      <td>-0.166974</td>\n",
              "      <td>1.612727</td>\n",
              "      <td>1.065235</td>\n",
              "      <td>0.489095</td>\n",
              "      <td>-0.143772</td>\n",
              "      <td>0.635558</td>\n",
              "      <td>0.463917</td>\n",
              "      <td>-0.114805</td>\n",
              "      <td>-0.183361</td>\n",
              "      <td>-0.145783</td>\n",
              "      <td>-0.069083</td>\n",
              "      <td>-0.225775</td>\n",
              "      <td>-0.638672</td>\n",
              "      <td>0.101288</td>\n",
              "      <td>-0.339846</td>\n",
              "      <td>0.167170</td>\n",
              "      <td>0.125895</td>\n",
              "      <td>-0.008983</td>\n",
              "      <td>0.014724</td>\n",
              "      <td>2.69</td>\n",
              "      <td>0.0</td>\n",
              "    </tr>\n",
              "    <tr>\n",
              "      <th>2</th>\n",
              "      <td>1</td>\n",
              "      <td>-1.358354</td>\n",
              "      <td>-1.340163</td>\n",
              "      <td>1.773209</td>\n",
              "      <td>0.379780</td>\n",
              "      <td>-0.503198</td>\n",
              "      <td>1.800499</td>\n",
              "      <td>0.791461</td>\n",
              "      <td>0.247676</td>\n",
              "      <td>-1.514654</td>\n",
              "      <td>0.207643</td>\n",
              "      <td>0.624501</td>\n",
              "      <td>0.066084</td>\n",
              "      <td>0.717293</td>\n",
              "      <td>-0.165946</td>\n",
              "      <td>2.345865</td>\n",
              "      <td>-2.890083</td>\n",
              "      <td>1.109969</td>\n",
              "      <td>-0.121359</td>\n",
              "      <td>-2.261857</td>\n",
              "      <td>0.524980</td>\n",
              "      <td>0.247998</td>\n",
              "      <td>0.771679</td>\n",
              "      <td>0.909412</td>\n",
              "      <td>-0.689281</td>\n",
              "      <td>-0.327642</td>\n",
              "      <td>-0.139097</td>\n",
              "      <td>-0.055353</td>\n",
              "      <td>-0.059752</td>\n",
              "      <td>378.66</td>\n",
              "      <td>0.0</td>\n",
              "    </tr>\n",
              "    <tr>\n",
              "      <th>3</th>\n",
              "      <td>1</td>\n",
              "      <td>-0.966272</td>\n",
              "      <td>-0.185226</td>\n",
              "      <td>1.792993</td>\n",
              "      <td>-0.863291</td>\n",
              "      <td>-0.010309</td>\n",
              "      <td>1.247203</td>\n",
              "      <td>0.237609</td>\n",
              "      <td>0.377436</td>\n",
              "      <td>-1.387024</td>\n",
              "      <td>-0.054952</td>\n",
              "      <td>-0.226487</td>\n",
              "      <td>0.178228</td>\n",
              "      <td>0.507757</td>\n",
              "      <td>-0.287924</td>\n",
              "      <td>-0.631418</td>\n",
              "      <td>-1.059647</td>\n",
              "      <td>-0.684093</td>\n",
              "      <td>1.965775</td>\n",
              "      <td>-1.232622</td>\n",
              "      <td>-0.208038</td>\n",
              "      <td>-0.108300</td>\n",
              "      <td>0.005274</td>\n",
              "      <td>-0.190321</td>\n",
              "      <td>-1.175575</td>\n",
              "      <td>0.647376</td>\n",
              "      <td>-0.221929</td>\n",
              "      <td>0.062723</td>\n",
              "      <td>0.061458</td>\n",
              "      <td>123.50</td>\n",
              "      <td>0.0</td>\n",
              "    </tr>\n",
              "    <tr>\n",
              "      <th>4</th>\n",
              "      <td>2</td>\n",
              "      <td>-1.158233</td>\n",
              "      <td>0.877737</td>\n",
              "      <td>1.548718</td>\n",
              "      <td>0.403034</td>\n",
              "      <td>-0.407193</td>\n",
              "      <td>0.095921</td>\n",
              "      <td>0.592941</td>\n",
              "      <td>-0.270533</td>\n",
              "      <td>0.817739</td>\n",
              "      <td>0.753074</td>\n",
              "      <td>-0.822843</td>\n",
              "      <td>0.538196</td>\n",
              "      <td>1.345852</td>\n",
              "      <td>-1.119670</td>\n",
              "      <td>0.175121</td>\n",
              "      <td>-0.451449</td>\n",
              "      <td>-0.237033</td>\n",
              "      <td>-0.038195</td>\n",
              "      <td>0.803487</td>\n",
              "      <td>0.408542</td>\n",
              "      <td>-0.009431</td>\n",
              "      <td>0.798278</td>\n",
              "      <td>-0.137458</td>\n",
              "      <td>0.141267</td>\n",
              "      <td>-0.206010</td>\n",
              "      <td>0.502292</td>\n",
              "      <td>0.219422</td>\n",
              "      <td>0.215153</td>\n",
              "      <td>69.99</td>\n",
              "      <td>0.0</td>\n",
              "    </tr>\n",
              "  </tbody>\n",
              "</table>\n",
              "</div>"
            ],
            "text/plain": [
              "   Time        V1        V2        V3  ...       V27       V28  Amount  Class\n",
              "0     0 -1.359807 -0.072781  2.536347  ...  0.133558 -0.021053  149.62    0.0\n",
              "1     0  1.191857  0.266151  0.166480  ... -0.008983  0.014724    2.69    0.0\n",
              "2     1 -1.358354 -1.340163  1.773209  ... -0.055353 -0.059752  378.66    0.0\n",
              "3     1 -0.966272 -0.185226  1.792993  ...  0.062723  0.061458  123.50    0.0\n",
              "4     2 -1.158233  0.877737  1.548718  ...  0.219422  0.215153   69.99    0.0\n",
              "\n",
              "[5 rows x 31 columns]"
            ]
          },
          "metadata": {},
          "execution_count": 10
        }
      ]
    },
    {
      "cell_type": "code",
      "metadata": {
        "id": "3cVbVltGBMJE"
      },
      "source": [
        "credit_card_data.tail()"
      ],
      "execution_count": null,
      "outputs": []
    },
    {
      "cell_type": "code",
      "metadata": {
        "id": "1ietSAGUBQW2"
      },
      "source": [
        "credit_card_data.info()"
      ],
      "execution_count": null,
      "outputs": []
    },
    {
      "cell_type": "code",
      "metadata": {
        "colab": {
          "base_uri": "https://localhost:8080/"
        },
        "id": "3yfGfPdrCMKb",
        "outputId": "28578f22-e6b0-41c6-f1da-32eb913df313"
      },
      "source": [
        "#distribution of legit/fraud transactions - (0=normal trans 1=fraud trans)\n",
        "#more than 99% is non-fraud, so ml can't recognize fraud because there's a lot less data\n",
        "#so we have to handle this unbalanced datasets\n",
        "credit_card_data['Class'].value_counts()"
      ],
      "execution_count": 15,
      "outputs": [
        {
          "output_type": "execute_result",
          "data": {
            "text/plain": [
              "0.0    41574\n",
              "1.0      108\n",
              "Name: Class, dtype: int64"
            ]
          },
          "metadata": {},
          "execution_count": 15
        }
      ]
    },
    {
      "cell_type": "code",
      "metadata": {
        "id": "DGe0lt-JFIjB"
      },
      "source": [
        "credit_card_data.isnull().sum()"
      ],
      "execution_count": null,
      "outputs": []
    },
    {
      "cell_type": "code",
      "metadata": {
        "id": "rlCLDGtTFN-Y"
      },
      "source": [
        "#Distribution of legit transactions & fraudulent transactions\n",
        "credit_card_data['Class'].value_counts()"
      ],
      "execution_count": null,
      "outputs": []
    },
    {
      "cell_type": "code",
      "metadata": {
        "id": "3trd_OjRD4bg"
      },
      "source": [
        "#we have to separate the data into fraud and legit to feed into the machine\n",
        "\n",
        "legit = credit_card_data[credit_card_data.Class == (0)]\n",
        "fraud = credit_card_data[credit_card_data.Class == (1)]"
      ],
      "execution_count": 17,
      "outputs": []
    },
    {
      "cell_type": "code",
      "metadata": {
        "colab": {
          "base_uri": "https://localhost:8080/"
        },
        "id": "4Lkss9kaFMK3",
        "outputId": "2b399ace-e233-4931-c5b7-e1d89bb575ee"
      },
      "source": [
        "#normal trans, 31 columns/ fraud trans, 31 columns\n",
        "print(legit.shape)\n",
        "print(fraud.shape)"
      ],
      "execution_count": 18,
      "outputs": [
        {
          "output_type": "stream",
          "name": "stdout",
          "text": [
            "(41574, 31)\n",
            "(108, 31)\n"
          ]
        }
      ]
    },
    {
      "cell_type": "code",
      "metadata": {
        "colab": {
          "base_uri": "https://localhost:8080/"
        },
        "id": "c22-g7yEFVbt",
        "outputId": "2f73e83b-c5a6-4e22-8ef4-dfabd70669bd"
      },
      "source": [
        "#Amount is the amount that was used in the the trans\n",
        "# average is $88 \n",
        "legit.Amount.describe()"
      ],
      "execution_count": 19,
      "outputs": [
        {
          "output_type": "execute_result",
          "data": {
            "text/plain": [
              "count    41574.000000\n",
              "mean        89.092554\n",
              "std        237.129967\n",
              "min          0.000000\n",
              "25%          7.550000\n",
              "50%         24.000000\n",
              "75%         80.000000\n",
              "max       7879.420000\n",
              "Name: Amount, dtype: float64"
            ]
          },
          "metadata": {},
          "execution_count": 19
        }
      ]
    },
    {
      "cell_type": "code",
      "metadata": {
        "colab": {
          "base_uri": "https://localhost:8080/"
        },
        "id": "C4lJNpbmF9V1",
        "outputId": "d61e77d3-af21-4f2c-c8e0-67619bc35ac2"
      },
      "source": [
        "#mean is $93, more than legit trans\n",
        "fraud.Amount.describe()"
      ],
      "execution_count": 20,
      "outputs": [
        {
          "output_type": "execute_result",
          "data": {
            "text/plain": [
              "count     108.000000\n",
              "mean       93.512593\n",
              "std       250.863273\n",
              "min         0.000000\n",
              "25%         1.000000\n",
              "50%         2.320000\n",
              "75%        99.990000\n",
              "max      1809.680000\n",
              "Name: Amount, dtype: float64"
            ]
          },
          "metadata": {},
          "execution_count": 20
        }
      ]
    },
    {
      "cell_type": "code",
      "metadata": {
        "colab": {
          "base_uri": "https://localhost:8080/",
          "height": 162
        },
        "id": "UIuugvF4GNsh",
        "outputId": "50907c0b-a95d-4188-df82-344b46525c57"
      },
      "source": [
        "#compare the values for both of the classes\n",
        "#the differences are important. they train the machine what's fraud and what's legit\n",
        "credit_card_data.groupby('Class').mean()"
      ],
      "execution_count": 22,
      "outputs": [
        {
          "output_type": "execute_result",
          "data": {
            "text/html": [
              "<div>\n",
              "<style scoped>\n",
              "    .dataframe tbody tr th:only-of-type {\n",
              "        vertical-align: middle;\n",
              "    }\n",
              "\n",
              "    .dataframe tbody tr th {\n",
              "        vertical-align: top;\n",
              "    }\n",
              "\n",
              "    .dataframe thead th {\n",
              "        text-align: right;\n",
              "    }\n",
              "</style>\n",
              "<table border=\"1\" class=\"dataframe\">\n",
              "  <thead>\n",
              "    <tr style=\"text-align: right;\">\n",
              "      <th></th>\n",
              "      <th>Time</th>\n",
              "      <th>V1</th>\n",
              "      <th>V2</th>\n",
              "      <th>V3</th>\n",
              "      <th>V4</th>\n",
              "      <th>V5</th>\n",
              "      <th>V6</th>\n",
              "      <th>V7</th>\n",
              "      <th>V8</th>\n",
              "      <th>V9</th>\n",
              "      <th>V10</th>\n",
              "      <th>V11</th>\n",
              "      <th>V12</th>\n",
              "      <th>V13</th>\n",
              "      <th>V14</th>\n",
              "      <th>V15</th>\n",
              "      <th>V16</th>\n",
              "      <th>V17</th>\n",
              "      <th>V18</th>\n",
              "      <th>V19</th>\n",
              "      <th>V20</th>\n",
              "      <th>V21</th>\n",
              "      <th>V22</th>\n",
              "      <th>V23</th>\n",
              "      <th>V24</th>\n",
              "      <th>V25</th>\n",
              "      <th>V26</th>\n",
              "      <th>V27</th>\n",
              "      <th>V28</th>\n",
              "      <th>Amount</th>\n",
              "    </tr>\n",
              "    <tr>\n",
              "      <th>Class</th>\n",
              "      <th></th>\n",
              "      <th></th>\n",
              "      <th></th>\n",
              "      <th></th>\n",
              "      <th></th>\n",
              "      <th></th>\n",
              "      <th></th>\n",
              "      <th></th>\n",
              "      <th></th>\n",
              "      <th></th>\n",
              "      <th></th>\n",
              "      <th></th>\n",
              "      <th></th>\n",
              "      <th></th>\n",
              "      <th></th>\n",
              "      <th></th>\n",
              "      <th></th>\n",
              "      <th></th>\n",
              "      <th></th>\n",
              "      <th></th>\n",
              "      <th></th>\n",
              "      <th></th>\n",
              "      <th></th>\n",
              "      <th></th>\n",
              "      <th></th>\n",
              "      <th></th>\n",
              "      <th></th>\n",
              "      <th></th>\n",
              "      <th></th>\n",
              "      <th></th>\n",
              "    </tr>\n",
              "  </thead>\n",
              "  <tbody>\n",
              "    <tr>\n",
              "      <th>0.0</th>\n",
              "      <td>26220.447082</td>\n",
              "      <td>-0.203702</td>\n",
              "      <td>0.021029</td>\n",
              "      <td>0.74135</td>\n",
              "      <td>0.172070</td>\n",
              "      <td>-0.222039</td>\n",
              "      <td>0.105713</td>\n",
              "      <td>-0.093360</td>\n",
              "      <td>0.035106</td>\n",
              "      <td>0.201757</td>\n",
              "      <td>-0.050262</td>\n",
              "      <td>0.397763</td>\n",
              "      <td>-0.415135</td>\n",
              "      <td>0.226988</td>\n",
              "      <td>0.246219</td>\n",
              "      <td>0.102912</td>\n",
              "      <td>0.009163</td>\n",
              "      <td>0.165792</td>\n",
              "      <td>-0.084449</td>\n",
              "      <td>-0.033582</td>\n",
              "      <td>0.045420</td>\n",
              "      <td>-0.030057</td>\n",
              "      <td>-0.110755</td>\n",
              "      <td>-0.039591</td>\n",
              "      <td>0.007931</td>\n",
              "      <td>0.135806</td>\n",
              "      <td>0.022783</td>\n",
              "      <td>0.005968</td>\n",
              "      <td>0.004583</td>\n",
              "      <td>89.092554</td>\n",
              "    </tr>\n",
              "    <tr>\n",
              "      <th>1.0</th>\n",
              "      <td>21414.990741</td>\n",
              "      <td>-7.454643</td>\n",
              "      <td>5.595067</td>\n",
              "      <td>-10.62406</td>\n",
              "      <td>5.849772</td>\n",
              "      <td>-5.115950</td>\n",
              "      <td>-2.288288</td>\n",
              "      <td>-7.382457</td>\n",
              "      <td>3.691487</td>\n",
              "      <td>-2.904887</td>\n",
              "      <td>-6.511032</td>\n",
              "      <td>5.397581</td>\n",
              "      <td>-8.129950</td>\n",
              "      <td>0.345852</td>\n",
              "      <td>-8.295162</td>\n",
              "      <td>-0.007414</td>\n",
              "      <td>-4.722107</td>\n",
              "      <td>-7.554117</td>\n",
              "      <td>-2.667420</td>\n",
              "      <td>0.428298</td>\n",
              "      <td>0.630658</td>\n",
              "      <td>0.602725</td>\n",
              "      <td>-0.336878</td>\n",
              "      <td>-0.313708</td>\n",
              "      <td>-0.237598</td>\n",
              "      <td>0.310378</td>\n",
              "      <td>0.183470</td>\n",
              "      <td>0.791559</td>\n",
              "      <td>0.112874</td>\n",
              "      <td>93.512593</td>\n",
              "    </tr>\n",
              "  </tbody>\n",
              "</table>\n",
              "</div>"
            ],
            "text/plain": [
              "               Time        V1        V2  ...       V27       V28     Amount\n",
              "Class                                    ...                               \n",
              "0.0    26220.447082 -0.203702  0.021029  ...  0.005968  0.004583  89.092554\n",
              "1.0    21414.990741 -7.454643  5.595067  ...  0.791559  0.112874  93.512593\n",
              "\n",
              "[2 rows x 30 columns]"
            ]
          },
          "metadata": {},
          "execution_count": 22
        }
      ]
    },
    {
      "cell_type": "code",
      "metadata": {
        "id": "JH4YSrzYG1fB"
      },
      "source": [
        "#we have to undersample the larger dataset\n",
        "#build a sample dataset containing similar distribution of legit trans (because that's the much larger dataset)\n",
        "#because there are 492 fraud trans, i'm going to take 492 random legit trans and join them. makes the distribution even\n",
        "\n",
        "legit_sample = legit.sample(n=108)\n",
        "\n",
        "\n"
      ],
      "execution_count": 29,
      "outputs": []
    },
    {
      "cell_type": "code",
      "metadata": {
        "id": "Kfs2KIFAGdVR"
      },
      "source": [
        "#now i will concatenate two df's\n",
        "#axis is 0 = concat row wise, 1 would be column (which we don't want)\n",
        "\n",
        "concat_dataset = pd.concat([legit_sample,fraud], axis=0)"
      ],
      "execution_count": 30,
      "outputs": []
    },
    {
      "cell_type": "code",
      "metadata": {
        "colab": {
          "base_uri": "https://localhost:8080/",
          "height": 224
        },
        "id": "NT3U2krEIyon",
        "outputId": "d0439fd7-6e6e-45d7-cfc2-4ff905a4b3a7"
      },
      "source": [
        "concat_dataset.head()"
      ],
      "execution_count": 31,
      "outputs": [
        {
          "output_type": "execute_result",
          "data": {
            "text/html": [
              "<div>\n",
              "<style scoped>\n",
              "    .dataframe tbody tr th:only-of-type {\n",
              "        vertical-align: middle;\n",
              "    }\n",
              "\n",
              "    .dataframe tbody tr th {\n",
              "        vertical-align: top;\n",
              "    }\n",
              "\n",
              "    .dataframe thead th {\n",
              "        text-align: right;\n",
              "    }\n",
              "</style>\n",
              "<table border=\"1\" class=\"dataframe\">\n",
              "  <thead>\n",
              "    <tr style=\"text-align: right;\">\n",
              "      <th></th>\n",
              "      <th>Time</th>\n",
              "      <th>V1</th>\n",
              "      <th>V2</th>\n",
              "      <th>V3</th>\n",
              "      <th>V4</th>\n",
              "      <th>V5</th>\n",
              "      <th>V6</th>\n",
              "      <th>V7</th>\n",
              "      <th>V8</th>\n",
              "      <th>V9</th>\n",
              "      <th>V10</th>\n",
              "      <th>V11</th>\n",
              "      <th>V12</th>\n",
              "      <th>V13</th>\n",
              "      <th>V14</th>\n",
              "      <th>V15</th>\n",
              "      <th>V16</th>\n",
              "      <th>V17</th>\n",
              "      <th>V18</th>\n",
              "      <th>V19</th>\n",
              "      <th>V20</th>\n",
              "      <th>V21</th>\n",
              "      <th>V22</th>\n",
              "      <th>V23</th>\n",
              "      <th>V24</th>\n",
              "      <th>V25</th>\n",
              "      <th>V26</th>\n",
              "      <th>V27</th>\n",
              "      <th>V28</th>\n",
              "      <th>Amount</th>\n",
              "      <th>Class</th>\n",
              "    </tr>\n",
              "  </thead>\n",
              "  <tbody>\n",
              "    <tr>\n",
              "      <th>16</th>\n",
              "      <td>12</td>\n",
              "      <td>1.103215</td>\n",
              "      <td>-0.040296</td>\n",
              "      <td>1.267332</td>\n",
              "      <td>1.289091</td>\n",
              "      <td>-0.735997</td>\n",
              "      <td>0.288069</td>\n",
              "      <td>-0.586057</td>\n",
              "      <td>0.189380</td>\n",
              "      <td>0.782333</td>\n",
              "      <td>-0.267975</td>\n",
              "      <td>-0.450311</td>\n",
              "      <td>0.936708</td>\n",
              "      <td>0.708380</td>\n",
              "      <td>-0.468647</td>\n",
              "      <td>0.354574</td>\n",
              "      <td>-0.246635</td>\n",
              "      <td>-0.009212</td>\n",
              "      <td>-0.595912</td>\n",
              "      <td>-0.575682</td>\n",
              "      <td>-0.113910</td>\n",
              "      <td>-0.024612</td>\n",
              "      <td>0.196002</td>\n",
              "      <td>0.013802</td>\n",
              "      <td>0.103758</td>\n",
              "      <td>0.364298</td>\n",
              "      <td>-0.382261</td>\n",
              "      <td>0.092809</td>\n",
              "      <td>0.037051</td>\n",
              "      <td>12.99</td>\n",
              "      <td>0.0</td>\n",
              "    </tr>\n",
              "    <tr>\n",
              "      <th>27931</th>\n",
              "      <td>34773</td>\n",
              "      <td>1.130214</td>\n",
              "      <td>0.261687</td>\n",
              "      <td>0.347462</td>\n",
              "      <td>1.218957</td>\n",
              "      <td>-0.616529</td>\n",
              "      <td>-1.089168</td>\n",
              "      <td>0.003354</td>\n",
              "      <td>-0.176947</td>\n",
              "      <td>0.448494</td>\n",
              "      <td>-0.803362</td>\n",
              "      <td>0.210979</td>\n",
              "      <td>0.734992</td>\n",
              "      <td>0.409219</td>\n",
              "      <td>-1.662385</td>\n",
              "      <td>-0.345774</td>\n",
              "      <td>-0.081056</td>\n",
              "      <td>1.291167</td>\n",
              "      <td>-0.217976</td>\n",
              "      <td>-0.228301</td>\n",
              "      <td>-0.013056</td>\n",
              "      <td>-0.127210</td>\n",
              "      <td>-0.132587</td>\n",
              "      <td>-0.052853</td>\n",
              "      <td>0.876395</td>\n",
              "      <td>0.492759</td>\n",
              "      <td>0.374385</td>\n",
              "      <td>0.003284</td>\n",
              "      <td>0.052867</td>\n",
              "      <td>29.56</td>\n",
              "      <td>0.0</td>\n",
              "    </tr>\n",
              "    <tr>\n",
              "      <th>28043</th>\n",
              "      <td>34823</td>\n",
              "      <td>-0.685598</td>\n",
              "      <td>-0.773272</td>\n",
              "      <td>0.957227</td>\n",
              "      <td>-2.647685</td>\n",
              "      <td>-0.015797</td>\n",
              "      <td>-0.545950</td>\n",
              "      <td>-0.368213</td>\n",
              "      <td>-0.167319</td>\n",
              "      <td>-1.963036</td>\n",
              "      <td>1.802120</td>\n",
              "      <td>0.325893</td>\n",
              "      <td>-0.579822</td>\n",
              "      <td>0.857181</td>\n",
              "      <td>-0.716580</td>\n",
              "      <td>-0.771298</td>\n",
              "      <td>0.056705</td>\n",
              "      <td>-0.496983</td>\n",
              "      <td>0.953191</td>\n",
              "      <td>-0.417815</td>\n",
              "      <td>0.026145</td>\n",
              "      <td>0.002639</td>\n",
              "      <td>0.725083</td>\n",
              "      <td>-0.209376</td>\n",
              "      <td>-0.488714</td>\n",
              "      <td>-0.268698</td>\n",
              "      <td>-0.237374</td>\n",
              "      <td>0.371485</td>\n",
              "      <td>0.122312</td>\n",
              "      <td>30.00</td>\n",
              "      <td>0.0</td>\n",
              "    </tr>\n",
              "    <tr>\n",
              "      <th>30869</th>\n",
              "      <td>36111</td>\n",
              "      <td>-0.764152</td>\n",
              "      <td>0.500283</td>\n",
              "      <td>1.191497</td>\n",
              "      <td>-1.397281</td>\n",
              "      <td>-0.719888</td>\n",
              "      <td>-0.703611</td>\n",
              "      <td>0.482568</td>\n",
              "      <td>-0.247566</td>\n",
              "      <td>-1.580204</td>\n",
              "      <td>0.847102</td>\n",
              "      <td>1.675528</td>\n",
              "      <td>0.294901</td>\n",
              "      <td>0.911609</td>\n",
              "      <td>-0.307583</td>\n",
              "      <td>-0.325517</td>\n",
              "      <td>0.968837</td>\n",
              "      <td>0.043310</td>\n",
              "      <td>-0.934832</td>\n",
              "      <td>0.878416</td>\n",
              "      <td>0.172899</td>\n",
              "      <td>0.324851</td>\n",
              "      <td>0.960745</td>\n",
              "      <td>-0.172578</td>\n",
              "      <td>0.591163</td>\n",
              "      <td>0.194616</td>\n",
              "      <td>-0.203914</td>\n",
              "      <td>-0.050639</td>\n",
              "      <td>0.081701</td>\n",
              "      <td>64.80</td>\n",
              "      <td>0.0</td>\n",
              "    </tr>\n",
              "    <tr>\n",
              "      <th>30738</th>\n",
              "      <td>36062</td>\n",
              "      <td>1.155097</td>\n",
              "      <td>0.033699</td>\n",
              "      <td>-0.090881</td>\n",
              "      <td>1.026957</td>\n",
              "      <td>0.435032</td>\n",
              "      <td>0.809886</td>\n",
              "      <td>-0.036617</td>\n",
              "      <td>0.207924</td>\n",
              "      <td>0.133760</td>\n",
              "      <td>0.039198</td>\n",
              "      <td>0.090821</td>\n",
              "      <td>0.746080</td>\n",
              "      <td>-0.174612</td>\n",
              "      <td>0.231627</td>\n",
              "      <td>-0.688402</td>\n",
              "      <td>-0.175799</td>\n",
              "      <td>-0.400551</td>\n",
              "      <td>-0.077159</td>\n",
              "      <td>0.354429</td>\n",
              "      <td>-0.101388</td>\n",
              "      <td>-0.113392</td>\n",
              "      <td>-0.184716</td>\n",
              "      <td>-0.239467</td>\n",
              "      <td>-1.144058</td>\n",
              "      <td>0.773572</td>\n",
              "      <td>-0.259407</td>\n",
              "      <td>0.028774</td>\n",
              "      <td>-0.002077</td>\n",
              "      <td>33.56</td>\n",
              "      <td>0.0</td>\n",
              "    </tr>\n",
              "  </tbody>\n",
              "</table>\n",
              "</div>"
            ],
            "text/plain": [
              "        Time        V1        V2        V3  ...       V27       V28  Amount  Class\n",
              "16        12  1.103215 -0.040296  1.267332  ...  0.092809  0.037051   12.99    0.0\n",
              "27931  34773  1.130214  0.261687  0.347462  ...  0.003284  0.052867   29.56    0.0\n",
              "28043  34823 -0.685598 -0.773272  0.957227  ...  0.371485  0.122312   30.00    0.0\n",
              "30869  36111 -0.764152  0.500283  1.191497  ... -0.050639  0.081701   64.80    0.0\n",
              "30738  36062  1.155097  0.033699 -0.090881  ...  0.028774 -0.002077   33.56    0.0\n",
              "\n",
              "[5 rows x 31 columns]"
            ]
          },
          "metadata": {},
          "execution_count": 31
        }
      ]
    },
    {
      "cell_type": "code",
      "metadata": {
        "colab": {
          "base_uri": "https://localhost:8080/"
        },
        "id": "TrkJeUisIr-e",
        "outputId": "54f47d0e-be3d-48d6-cb4c-b789b8b54bf0"
      },
      "source": [
        "concat_dataset['Class'].value_counts()"
      ],
      "execution_count": 39,
      "outputs": [
        {
          "output_type": "execute_result",
          "data": {
            "text/plain": [
              "1.0    108\n",
              "0.0    108\n",
              "Name: Class, dtype: int64"
            ]
          },
          "metadata": {},
          "execution_count": 39
        }
      ]
    },
    {
      "cell_type": "code",
      "metadata": {
        "colab": {
          "base_uri": "https://localhost:8080/",
          "height": 162
        },
        "id": "HBJyGwEyJHKl",
        "outputId": "e2f0e73c-0040-44c6-8fc2-1f438fe2834a"
      },
      "source": [
        "#this step is important bc it lets us know if its good or bad, bad would be very dif. this is looking good to go\n",
        "concat_dataset.groupby('Class').mean()"
      ],
      "execution_count": 40,
      "outputs": [
        {
          "output_type": "execute_result",
          "data": {
            "text/html": [
              "<div>\n",
              "<style scoped>\n",
              "    .dataframe tbody tr th:only-of-type {\n",
              "        vertical-align: middle;\n",
              "    }\n",
              "\n",
              "    .dataframe tbody tr th {\n",
              "        vertical-align: top;\n",
              "    }\n",
              "\n",
              "    .dataframe thead th {\n",
              "        text-align: right;\n",
              "    }\n",
              "</style>\n",
              "<table border=\"1\" class=\"dataframe\">\n",
              "  <thead>\n",
              "    <tr style=\"text-align: right;\">\n",
              "      <th></th>\n",
              "      <th>Time</th>\n",
              "      <th>V1</th>\n",
              "      <th>V2</th>\n",
              "      <th>V3</th>\n",
              "      <th>V4</th>\n",
              "      <th>V5</th>\n",
              "      <th>V6</th>\n",
              "      <th>V7</th>\n",
              "      <th>V8</th>\n",
              "      <th>V9</th>\n",
              "      <th>V10</th>\n",
              "      <th>V11</th>\n",
              "      <th>V12</th>\n",
              "      <th>V13</th>\n",
              "      <th>V14</th>\n",
              "      <th>V15</th>\n",
              "      <th>V16</th>\n",
              "      <th>V17</th>\n",
              "      <th>V18</th>\n",
              "      <th>V19</th>\n",
              "      <th>V20</th>\n",
              "      <th>V21</th>\n",
              "      <th>V22</th>\n",
              "      <th>V23</th>\n",
              "      <th>V24</th>\n",
              "      <th>V25</th>\n",
              "      <th>V26</th>\n",
              "      <th>V27</th>\n",
              "      <th>V28</th>\n",
              "      <th>Amount</th>\n",
              "    </tr>\n",
              "    <tr>\n",
              "      <th>Class</th>\n",
              "      <th></th>\n",
              "      <th></th>\n",
              "      <th></th>\n",
              "      <th></th>\n",
              "      <th></th>\n",
              "      <th></th>\n",
              "      <th></th>\n",
              "      <th></th>\n",
              "      <th></th>\n",
              "      <th></th>\n",
              "      <th></th>\n",
              "      <th></th>\n",
              "      <th></th>\n",
              "      <th></th>\n",
              "      <th></th>\n",
              "      <th></th>\n",
              "      <th></th>\n",
              "      <th></th>\n",
              "      <th></th>\n",
              "      <th></th>\n",
              "      <th></th>\n",
              "      <th></th>\n",
              "      <th></th>\n",
              "      <th></th>\n",
              "      <th></th>\n",
              "      <th></th>\n",
              "      <th></th>\n",
              "      <th></th>\n",
              "      <th></th>\n",
              "      <th></th>\n",
              "    </tr>\n",
              "  </thead>\n",
              "  <tbody>\n",
              "    <tr>\n",
              "      <th>0.0</th>\n",
              "      <td>25294.759259</td>\n",
              "      <td>-0.012506</td>\n",
              "      <td>0.145995</td>\n",
              "      <td>0.660691</td>\n",
              "      <td>0.176024</td>\n",
              "      <td>-0.156906</td>\n",
              "      <td>0.271292</td>\n",
              "      <td>0.000626</td>\n",
              "      <td>0.069214</td>\n",
              "      <td>0.126333</td>\n",
              "      <td>-0.057993</td>\n",
              "      <td>0.530235</td>\n",
              "      <td>-0.158841</td>\n",
              "      <td>0.036984</td>\n",
              "      <td>0.217469</td>\n",
              "      <td>0.098595</td>\n",
              "      <td>-0.004948</td>\n",
              "      <td>0.125774</td>\n",
              "      <td>-0.133175</td>\n",
              "      <td>-0.000769</td>\n",
              "      <td>0.003656</td>\n",
              "      <td>0.063703</td>\n",
              "      <td>-0.064915</td>\n",
              "      <td>-0.020604</td>\n",
              "      <td>0.059905</td>\n",
              "      <td>0.163558</td>\n",
              "      <td>0.042373</td>\n",
              "      <td>0.005333</td>\n",
              "      <td>-0.018222</td>\n",
              "      <td>78.346481</td>\n",
              "    </tr>\n",
              "    <tr>\n",
              "      <th>1.0</th>\n",
              "      <td>21414.990741</td>\n",
              "      <td>-7.454643</td>\n",
              "      <td>5.595067</td>\n",
              "      <td>-10.624060</td>\n",
              "      <td>5.849772</td>\n",
              "      <td>-5.115950</td>\n",
              "      <td>-2.288288</td>\n",
              "      <td>-7.382457</td>\n",
              "      <td>3.691487</td>\n",
              "      <td>-2.904887</td>\n",
              "      <td>-6.511032</td>\n",
              "      <td>5.397581</td>\n",
              "      <td>-8.129950</td>\n",
              "      <td>0.345852</td>\n",
              "      <td>-8.295162</td>\n",
              "      <td>-0.007414</td>\n",
              "      <td>-4.722107</td>\n",
              "      <td>-7.554117</td>\n",
              "      <td>-2.667420</td>\n",
              "      <td>0.428298</td>\n",
              "      <td>0.630658</td>\n",
              "      <td>0.602725</td>\n",
              "      <td>-0.336878</td>\n",
              "      <td>-0.313708</td>\n",
              "      <td>-0.237598</td>\n",
              "      <td>0.310378</td>\n",
              "      <td>0.183470</td>\n",
              "      <td>0.791559</td>\n",
              "      <td>0.112874</td>\n",
              "      <td>93.512593</td>\n",
              "    </tr>\n",
              "  </tbody>\n",
              "</table>\n",
              "</div>"
            ],
            "text/plain": [
              "               Time        V1        V2  ...       V27       V28     Amount\n",
              "Class                                    ...                               \n",
              "0.0    25294.759259 -0.012506  0.145995  ...  0.005333 -0.018222  78.346481\n",
              "1.0    21414.990741 -7.454643  5.595067  ...  0.791559  0.112874  93.512593\n",
              "\n",
              "[2 rows x 30 columns]"
            ]
          },
          "metadata": {},
          "execution_count": 40
        }
      ]
    },
    {
      "cell_type": "code",
      "metadata": {
        "id": "VcnCYsf6KCKo"
      },
      "source": [
        "#split the data into targets (0 or 1) and features\n",
        "#axis is 1 bc we want to drop a column, not a row\n",
        "\n",
        "X= concat_dataset.drop(columns = 'Class', axis = 1)\n",
        "Y = concat_dataset['Class']"
      ],
      "execution_count": 42,
      "outputs": []
    },
    {
      "cell_type": "code",
      "metadata": {
        "colab": {
          "base_uri": "https://localhost:8080/"
        },
        "id": "2em45rC1LiKX",
        "outputId": "55e36067-3ad5-4da2-e699-ecd0e671987c"
      },
      "source": [
        "print(X)"
      ],
      "execution_count": 44,
      "outputs": [
        {
          "output_type": "stream",
          "name": "stdout",
          "text": [
            "        Time        V1        V2  ...       V27       V28  Amount\n",
            "16        12  1.103215 -0.040296  ...  0.092809  0.037051   12.99\n",
            "27931  34773  1.130214  0.261687  ...  0.003284  0.052867   29.56\n",
            "28043  34823 -0.685598 -0.773272  ...  0.371485  0.122312   30.00\n",
            "30869  36111 -0.764152  0.500283  ... -0.050639  0.081701   64.80\n",
            "30738  36062  1.155097  0.033699  ...  0.028774 -0.002077   33.56\n",
            "...      ...       ...       ...  ...       ...       ...     ...\n",
            "39183  39729 -0.964567 -1.643541  ... -0.308555 -0.164500  776.83\n",
            "40085  40086  1.083693  1.179501  ...  0.096701  0.114972    1.00\n",
            "40525  40276  1.159373  2.844795  ...  0.009979  0.160769    1.00\n",
            "41395  40662 -4.446847 -0.014793  ...  0.492560  0.971834    1.00\n",
            "41569  40742 -2.377533  0.520539  ...  0.500326  0.551760    1.00\n",
            "\n",
            "[216 rows x 30 columns]\n"
          ]
        }
      ]
    },
    {
      "cell_type": "code",
      "metadata": {
        "colab": {
          "base_uri": "https://localhost:8080/"
        },
        "id": "BSGpuXl-LnRW",
        "outputId": "467d7406-62b8-47d9-e578-7b60eb2b22e4"
      },
      "source": [
        "print(Y)"
      ],
      "execution_count": 45,
      "outputs": [
        {
          "output_type": "stream",
          "name": "stdout",
          "text": [
            "16       0.0\n",
            "27931    0.0\n",
            "28043    0.0\n",
            "30869    0.0\n",
            "30738    0.0\n",
            "        ... \n",
            "39183    1.0\n",
            "40085    1.0\n",
            "40525    1.0\n",
            "41395    1.0\n",
            "41569    1.0\n",
            "Name: Class, Length: 216, dtype: float64\n"
          ]
        }
      ]
    },
    {
      "cell_type": "code",
      "metadata": {
        "id": "V4jBkLDHLq44"
      },
      "source": [
        "#split into train and test data\n",
        "# 20% is going to test data, meaning 80% will be train\n",
        "#strat Y = evenly dist 2 classes in both x/y train/test\n",
        "#random state is just reproducing 2 times\n",
        "\n",
        "X_train, X_test, Y_train, Y_test = train_test_split(X , Y, test_size = 0.2, stratify = Y, random_state=2)"
      ],
      "execution_count": 46,
      "outputs": []
    },
    {
      "cell_type": "code",
      "metadata": {
        "colab": {
          "base_uri": "https://localhost:8080/"
        },
        "id": "AoIJv2zkMliQ",
        "outputId": "f7e0cc8a-c863-4860-be93-48cc47bef5e1"
      },
      "source": [
        "print(X.shape, X_train.shape, X_test.shape)"
      ],
      "execution_count": 48,
      "outputs": [
        {
          "output_type": "stream",
          "name": "stdout",
          "text": [
            "(216, 30) (172, 30) (44, 30)\n"
          ]
        }
      ]
    },
    {
      "cell_type": "code",
      "metadata": {
        "id": "neDrnMpxMwYh"
      },
      "source": [
        "#model training. Using logistic regression model (LR) for binary classification models (0,1...like this one)\n",
        "\n",
        "model = LogisticRegression()"
      ],
      "execution_count": 49,
      "outputs": []
    },
    {
      "cell_type": "code",
      "metadata": {
        "colab": {
          "base_uri": "https://localhost:8080/"
        },
        "id": "0fzQBuNkNXo-",
        "outputId": "97b7898a-7807-4ff8-bc74-80047adc3bd3"
      },
      "source": [
        "#training (or fitting) our LR model w training data\n",
        "\n",
        "model.fit(X_train, Y_train)"
      ],
      "execution_count": 50,
      "outputs": [
        {
          "output_type": "stream",
          "name": "stderr",
          "text": [
            "/usr/local/lib/python3.7/dist-packages/sklearn/linear_model/_logistic.py:818: ConvergenceWarning: lbfgs failed to converge (status=1):\n",
            "STOP: TOTAL NO. of ITERATIONS REACHED LIMIT.\n",
            "\n",
            "Increase the number of iterations (max_iter) or scale the data as shown in:\n",
            "    https://scikit-learn.org/stable/modules/preprocessing.html\n",
            "Please also refer to the documentation for alternative solver options:\n",
            "    https://scikit-learn.org/stable/modules/linear_model.html#logistic-regression\n",
            "  extra_warning_msg=_LOGISTIC_SOLVER_CONVERGENCE_MSG,\n"
          ]
        },
        {
          "output_type": "execute_result",
          "data": {
            "text/plain": [
              "LogisticRegression()"
            ]
          },
          "metadata": {},
          "execution_count": 50
        }
      ]
    },
    {
      "cell_type": "code",
      "metadata": {
        "id": "54EYc8TINse_"
      },
      "source": [
        "#evaluate our model based on accuracy score\n",
        "#predicting the labels for all the training data \n",
        "# second line will compare trained data fed through the model vs original labels stored in Y_train\n",
        "X_train_prediction = model.predict(X_train)\n",
        "training_data_accuracy = accuracy_score(X_train_prediction, Y_train)"
      ],
      "execution_count": 51,
      "outputs": []
    },
    {
      "cell_type": "code",
      "metadata": {
        "colab": {
          "base_uri": "https://localhost:8080/"
        },
        "id": "Iap-Dl5eO6bt",
        "outputId": "b4a7997b-e298-45f2-9bc6-fcf3a51e8cc3"
      },
      "source": [
        "#very good accuracy score, out of 100 predictions, our model can predict 98 of them. test data is next\n",
        "#why did we print training data? because if the training and test data accuracy scores are very different, then your model isn't good. over/underfit\n",
        "print(training_data_accuracy)"
      ],
      "execution_count": 52,
      "outputs": [
        {
          "output_type": "stream",
          "name": "stdout",
          "text": [
            "0.9883720930232558\n"
          ]
        }
      ]
    },
    {
      "cell_type": "code",
      "metadata": {
        "id": "3O9thC2EP4b0"
      },
      "source": [
        "#at this point we've only fed the model  training data, next we do the same thing as above, but with test data\n",
        "X_test_prediction = model.predict(X_test)\n",
        "test_data_accuracy = accuracy_score(X_test_prediction, Y_test)"
      ],
      "execution_count": 53,
      "outputs": []
    },
    {
      "cell_type": "code",
      "metadata": {
        "colab": {
          "base_uri": "https://localhost:8080/"
        },
        "id": "Y706ozhQQqoz",
        "outputId": "eca691a5-16d8-4e6b-84a9-51887a72ad1d"
      },
      "source": [
        "#slightly lower than training data, but still really good\n",
        "print(test_data_accuracy)"
      ],
      "execution_count": 54,
      "outputs": [
        {
          "output_type": "stream",
          "name": "stdout",
          "text": [
            "0.9772727272727273\n"
          ]
        }
      ]
    },
    {
      "cell_type": "code",
      "metadata": {
        "id": "AA0nb3zGQxH8"
      },
      "source": [
        ""
      ],
      "execution_count": null,
      "outputs": []
    }
  ]
}